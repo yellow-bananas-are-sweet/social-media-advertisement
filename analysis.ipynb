{
 "cells": [
  {
   "cell_type": "code",
   "execution_count": 54,
   "id": "0535e196",
   "metadata": {},
   "outputs": [
    {
     "data": {
      "text/html": [
       "<div>\n",
       "<style scoped>\n",
       "    .dataframe tbody tr th:only-of-type {\n",
       "        vertical-align: middle;\n",
       "    }\n",
       "\n",
       "    .dataframe tbody tr th {\n",
       "        vertical-align: top;\n",
       "    }\n",
       "\n",
       "    .dataframe thead th {\n",
       "        text-align: right;\n",
       "    }\n",
       "</style>\n",
       "<table border=\"1\" class=\"dataframe\">\n",
       "  <thead>\n",
       "    <tr style=\"text-align: right;\">\n",
       "      <th></th>\n",
       "      <th>ad_id</th>\n",
       "      <th>campaign_id</th>\n",
       "      <th>ad_platform</th>\n",
       "      <th>ad_type</th>\n",
       "      <th>target_gender</th>\n",
       "      <th>target_age_group</th>\n",
       "      <th>target_interests</th>\n",
       "    </tr>\n",
       "  </thead>\n",
       "  <tbody>\n",
       "    <tr>\n",
       "      <th>0</th>\n",
       "      <td>1</td>\n",
       "      <td>28</td>\n",
       "      <td>Facebook</td>\n",
       "      <td>Video</td>\n",
       "      <td>Female</td>\n",
       "      <td>35-44</td>\n",
       "      <td>art, technology</td>\n",
       "    </tr>\n",
       "    <tr>\n",
       "      <th>1</th>\n",
       "      <td>2</td>\n",
       "      <td>33</td>\n",
       "      <td>Facebook</td>\n",
       "      <td>Stories</td>\n",
       "      <td>All</td>\n",
       "      <td>25-34</td>\n",
       "      <td>travel, photography</td>\n",
       "    </tr>\n",
       "    <tr>\n",
       "      <th>2</th>\n",
       "      <td>3</td>\n",
       "      <td>20</td>\n",
       "      <td>Instagram</td>\n",
       "      <td>Carousel</td>\n",
       "      <td>All</td>\n",
       "      <td>25-34</td>\n",
       "      <td>technology</td>\n",
       "    </tr>\n",
       "    <tr>\n",
       "      <th>3</th>\n",
       "      <td>4</td>\n",
       "      <td>28</td>\n",
       "      <td>Facebook</td>\n",
       "      <td>Stories</td>\n",
       "      <td>Female</td>\n",
       "      <td>25-34</td>\n",
       "      <td>news</td>\n",
       "    </tr>\n",
       "    <tr>\n",
       "      <th>4</th>\n",
       "      <td>5</td>\n",
       "      <td>24</td>\n",
       "      <td>Instagram</td>\n",
       "      <td>Image</td>\n",
       "      <td>Female</td>\n",
       "      <td>25-34</td>\n",
       "      <td>news</td>\n",
       "    </tr>\n",
       "  </tbody>\n",
       "</table>\n",
       "</div>"
      ],
      "text/plain": [
       "   ad_id  campaign_id ad_platform   ad_type target_gender target_age_group  \\\n",
       "0      1           28    Facebook     Video        Female            35-44   \n",
       "1      2           33    Facebook   Stories           All            25-34   \n",
       "2      3           20   Instagram  Carousel           All            25-34   \n",
       "3      4           28    Facebook   Stories        Female            25-34   \n",
       "4      5           24   Instagram     Image        Female            25-34   \n",
       "\n",
       "      target_interests  \n",
       "0      art, technology  \n",
       "1  travel, photography  \n",
       "2           technology  \n",
       "3                 news  \n",
       "4                 news  "
      ]
     },
     "execution_count": 54,
     "metadata": {},
     "output_type": "execute_result"
    }
   ],
   "source": [
    "# Libraries\n",
    "import pandas as pd\n",
    "import numpy as np\n",
    "import matplotlib.pyplot as plt\n",
    "import seaborn as sea #Used for data visualization. Built on top of matplotlib.\n",
    "import warnings\n",
    "\n",
    "warnings.simplefilter(action='ignore', category=FutureWarning)\n",
    "\n",
    "# Load dataset with pandas library\n",
    "d = pd.read_csv(\"/Users/abhinavgupta/Library/Mobile Documents/com~apple~CloudDocs/social media advertisement/dataset sma/ads.csv\")\n",
    "\n",
    "# Quick check\n",
    "d.head()\n"
   ]
  },
  {
   "cell_type": "code",
   "execution_count": 55,
   "id": "3b4fe811",
   "metadata": {},
   "outputs": [
    {
     "data": {
      "text/plain": [
       "(200, 7)"
      ]
     },
     "execution_count": 55,
     "metadata": {},
     "output_type": "execute_result"
    }
   ],
   "source": [
    "d.shape # R over C (ps)"
   ]
  },
  {
   "cell_type": "code",
   "execution_count": 56,
   "id": "7413647c",
   "metadata": {},
   "outputs": [
    {
     "data": {
      "text/plain": [
       "ad_id                int64\n",
       "campaign_id          int64\n",
       "ad_platform         object\n",
       "ad_type             object\n",
       "target_gender       object\n",
       "target_age_group    object\n",
       "target_interests    object\n",
       "dtype: object"
      ]
     },
     "execution_count": 56,
     "metadata": {},
     "output_type": "execute_result"
    }
   ],
   "source": [
    "d.dtypes #(ps)"
   ]
  },
  {
   "cell_type": "code",
   "execution_count": 57,
   "id": "11a7a312",
   "metadata": {},
   "outputs": [
    {
     "data": {
      "text/html": [
       "<div>\n",
       "<style scoped>\n",
       "    .dataframe tbody tr th:only-of-type {\n",
       "        vertical-align: middle;\n",
       "    }\n",
       "\n",
       "    .dataframe tbody tr th {\n",
       "        vertical-align: top;\n",
       "    }\n",
       "\n",
       "    .dataframe thead th {\n",
       "        text-align: right;\n",
       "    }\n",
       "</style>\n",
       "<table border=\"1\" class=\"dataframe\">\n",
       "  <thead>\n",
       "    <tr style=\"text-align: right;\">\n",
       "      <th></th>\n",
       "      <th>ad_id</th>\n",
       "      <th>campaign_id</th>\n",
       "    </tr>\n",
       "  </thead>\n",
       "  <tbody>\n",
       "    <tr>\n",
       "      <th>count</th>\n",
       "      <td>200.000000</td>\n",
       "      <td>200.000000</td>\n",
       "    </tr>\n",
       "    <tr>\n",
       "      <th>mean</th>\n",
       "      <td>100.500000</td>\n",
       "      <td>25.125000</td>\n",
       "    </tr>\n",
       "    <tr>\n",
       "      <th>std</th>\n",
       "      <td>57.879185</td>\n",
       "      <td>13.713485</td>\n",
       "    </tr>\n",
       "    <tr>\n",
       "      <th>min</th>\n",
       "      <td>1.000000</td>\n",
       "      <td>1.000000</td>\n",
       "    </tr>\n",
       "    <tr>\n",
       "      <th>25%</th>\n",
       "      <td>50.750000</td>\n",
       "      <td>13.000000</td>\n",
       "    </tr>\n",
       "    <tr>\n",
       "      <th>50%</th>\n",
       "      <td>100.500000</td>\n",
       "      <td>25.000000</td>\n",
       "    </tr>\n",
       "    <tr>\n",
       "      <th>75%</th>\n",
       "      <td>150.250000</td>\n",
       "      <td>37.000000</td>\n",
       "    </tr>\n",
       "    <tr>\n",
       "      <th>max</th>\n",
       "      <td>200.000000</td>\n",
       "      <td>50.000000</td>\n",
       "    </tr>\n",
       "  </tbody>\n",
       "</table>\n",
       "</div>"
      ],
      "text/plain": [
       "            ad_id  campaign_id\n",
       "count  200.000000   200.000000\n",
       "mean   100.500000    25.125000\n",
       "std     57.879185    13.713485\n",
       "min      1.000000     1.000000\n",
       "25%     50.750000    13.000000\n",
       "50%    100.500000    25.000000\n",
       "75%    150.250000    37.000000\n",
       "max    200.000000    50.000000"
      ]
     },
     "execution_count": 57,
     "metadata": {},
     "output_type": "execute_result"
    }
   ],
   "source": [
    "d.describe() "
   ]
  },
  {
   "cell_type": "code",
   "execution_count": 58,
   "id": "a1a423d4",
   "metadata": {},
   "outputs": [
    {
     "name": "stdout",
     "output_type": "stream",
     "text": [
      "<class 'pandas.core.frame.DataFrame'>\n",
      "RangeIndex: 200 entries, 0 to 199\n",
      "Data columns (total 7 columns):\n",
      " #   Column            Non-Null Count  Dtype \n",
      "---  ------            --------------  ----- \n",
      " 0   ad_id             200 non-null    int64 \n",
      " 1   campaign_id       200 non-null    int64 \n",
      " 2   ad_platform       200 non-null    object\n",
      " 3   ad_type           200 non-null    object\n",
      " 4   target_gender     200 non-null    object\n",
      " 5   target_age_group  200 non-null    object\n",
      " 6   target_interests  200 non-null    object\n",
      "dtypes: int64(2), object(5)\n",
      "memory usage: 11.1+ KB\n"
     ]
    }
   ],
   "source": [
    "d.info() "
   ]
  },
  {
   "cell_type": "code",
   "execution_count": 59,
   "id": "42de273d",
   "metadata": {},
   "outputs": [
    {
     "data": {
      "text/plain": [
       "0"
      ]
     },
     "execution_count": 59,
     "metadata": {},
     "output_type": "execute_result"
    }
   ],
   "source": [
    "d.duplicated().sum()"
   ]
  },
  {
   "cell_type": "code",
   "execution_count": 98,
   "id": "7e27111d",
   "metadata": {},
   "outputs": [
    {
     "data": {
      "image/png": "[encoded data removed]",
      "text/plain": [
       "<Figure size 1000x600 with 1 Axes>"
      ]
     },
     "metadata": {},
     "output_type": "display_data"
    }
   ],
   "source": [
    "plt.figure(figsize=(10,6))\n",
    "sea.set(style=('darkgrid'))\n",
    "gph = sea.countplot(data=d, x='ad_platform')\n",
    "gph.set_xlabel('Ad Platform', fontsize=15) \n",
    "gph.set_ylabel('Frequency', fontsize=15)\n",
    "gph.patches[0].set_color('brown') \n",
    "gph.patches[1].set_color('olive')\n",
    "gph = gph.set_title('No. of ads per platform', fontsize=20)\n",
    "\n",
    "plt.show()"
   ]
  }
 ],
 "metadata": {
  "kernelspec": {
   "display_name": "base",
   "language": "python",
   "name": "python3"
  },
  "language_info": {
   "codemirror_mode": {
    "name": "ipython",
    "version": 3
   },
   "file_extension": ".py",
   "mimetype": "text/x-python",
   "name": "python",
   "nbconvert_exporter": "python",
   "pygments_lexer": "ipython3",
   "version": "3.12.7"
  }
 },
 "nbformat": 4,
 "nbformat_minor": 5
}
