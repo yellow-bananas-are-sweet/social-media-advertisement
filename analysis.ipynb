{
 "cells": [
  {
   "cell_type": "code",
   "execution_count": null,
   "id": "0535e196",
   "metadata": {},
   "outputs": [
    {
     "data": {
      "text/html": [
       "<div>\n",
       "<style scoped>\n",
       "    .dataframe tbody tr th:only-of-type {\n",
       "        vertical-align: middle;\n",
       "    }\n",
       "\n",
       "    .dataframe tbody tr th {\n",
       "        vertical-align: top;\n",
       "    }\n",
       "\n",
       "    .dataframe thead th {\n",
       "        text-align: right;\n",
       "    }\n",
       "</style>\n",
       "<table border=\"1\" class=\"dataframe\">\n",
       "  <thead>\n",
       "    <tr style=\"text-align: right;\">\n",
       "      <th></th>\n",
       "      <th>event_id</th>\n",
       "      <th>ad_id</th>\n",
       "      <th>user_id</th>\n",
       "      <th>timestamp</th>\n",
       "      <th>day_of_week</th>\n",
       "      <th>time_of_day</th>\n",
       "      <th>event_type</th>\n",
       "    </tr>\n",
       "  </thead>\n",
       "  <tbody>\n",
       "    <tr>\n",
       "      <th>0</th>\n",
       "      <td>1</td>\n",
       "      <td>197</td>\n",
       "      <td>2359b</td>\n",
       "      <td>2025-07-26 00:19:56</td>\n",
       "      <td>Saturday</td>\n",
       "      <td>Night</td>\n",
       "      <td>Like</td>\n",
       "    </tr>\n",
       "    <tr>\n",
       "      <th>1</th>\n",
       "      <td>2</td>\n",
       "      <td>51</td>\n",
       "      <td>f9c67</td>\n",
       "      <td>2025-06-15 08:28:07</td>\n",
       "      <td>Sunday</td>\n",
       "      <td>Morning</td>\n",
       "      <td>Share</td>\n",
       "    </tr>\n",
       "    <tr>\n",
       "      <th>2</th>\n",
       "      <td>3</td>\n",
       "      <td>46</td>\n",
       "      <td>5b868</td>\n",
       "      <td>2025-06-27 00:40:02</td>\n",
       "      <td>Friday</td>\n",
       "      <td>Night</td>\n",
       "      <td>Impression</td>\n",
       "    </tr>\n",
       "    <tr>\n",
       "      <th>3</th>\n",
       "      <td>4</td>\n",
       "      <td>166</td>\n",
       "      <td>3d440</td>\n",
       "      <td>2025-06-05 19:20:45</td>\n",
       "      <td>Thursday</td>\n",
       "      <td>Evening</td>\n",
       "      <td>Impression</td>\n",
       "    </tr>\n",
       "    <tr>\n",
       "      <th>4</th>\n",
       "      <td>5</td>\n",
       "      <td>52</td>\n",
       "      <td>68f1a</td>\n",
       "      <td>2025-07-22 08:30:29</td>\n",
       "      <td>Tuesday</td>\n",
       "      <td>Morning</td>\n",
       "      <td>Impression</td>\n",
       "    </tr>\n",
       "  </tbody>\n",
       "</table>\n",
       "</div>"
      ],
      "text/plain": [
       "   event_id  ad_id user_id            timestamp day_of_week time_of_day  \\\n",
       "0         1    197   2359b  2025-07-26 00:19:56    Saturday       Night   \n",
       "1         2     51   f9c67  2025-06-15 08:28:07      Sunday     Morning   \n",
       "2         3     46   5b868  2025-06-27 00:40:02      Friday       Night   \n",
       "3         4    166   3d440  2025-06-05 19:20:45    Thursday     Evening   \n",
       "4         5     52   68f1a  2025-07-22 08:30:29     Tuesday     Morning   \n",
       "\n",
       "   event_type  \n",
       "0        Like  \n",
       "1       Share  \n",
       "2  Impression  \n",
       "3  Impression  \n",
       "4  Impression  "
      ]
     },
     "execution_count": 14,
     "metadata": {},
     "output_type": "execute_result"
    }
   ],
   "source": [
    "# Libraries\n",
    "import pandas as pd\n",
    "import numpy as np\n",
    "import matplotlib.pyplot as plt\n",
    "import seaborn as sns #Used for data visualization. Built on top of matplotlib.\n",
    "import warnings\n",
    "\n",
    "warnings.simplefilter(action='ignore', category=FutureWarning)\n",
    "\n",
    "# Load dataset with pandas library\n",
    "d = pd.read_csv(\"/Users/abhinavgupta/Library/Mobile Documents/com~apple~CloudDocs/social media advertisement/dataset sma/ad_events.csv\")\n",
    "\n",
    "# Quick check\n",
    "d.head()\n"
   ]
  },
  {
   "cell_type": "code",
   "execution_count": null,
   "id": "3b4fe811",
   "metadata": {},
   "outputs": [
    {
     "data": {
      "text/plain": [
       "(400000, 7)"
      ]
     },
     "execution_count": 17,
     "metadata": {},
     "output_type": "execute_result"
    }
   ],
   "source": [
    "d.shape # R over C (ps)"
   ]
  },
  {
   "cell_type": "code",
   "execution_count": null,
   "id": "7413647c",
   "metadata": {},
   "outputs": [
    {
     "data": {
      "text/plain": [
       "event_id        int64\n",
       "ad_id           int64\n",
       "user_id        object\n",
       "timestamp      object\n",
       "day_of_week    object\n",
       "time_of_day    object\n",
       "event_type     object\n",
       "dtype: object"
      ]
     },
     "execution_count": 18,
     "metadata": {},
     "output_type": "execute_result"
    }
   ],
   "source": [
    "d.dtypes #(ps)"
   ]
  },
  {
   "cell_type": "code",
   "execution_count": null,
   "id": "11a7a312",
   "metadata": {},
   "outputs": [
    {
     "data": {
      "text/html": [
       "<div>\n",
       "<style scoped>\n",
       "    .dataframe tbody tr th:only-of-type {\n",
       "        vertical-align: middle;\n",
       "    }\n",
       "\n",
       "    .dataframe tbody tr th {\n",
       "        vertical-align: top;\n",
       "    }\n",
       "\n",
       "    .dataframe thead th {\n",
       "        text-align: right;\n",
       "    }\n",
       "</style>\n",
       "<table border=\"1\" class=\"dataframe\">\n",
       "  <thead>\n",
       "    <tr style=\"text-align: right;\">\n",
       "      <th></th>\n",
       "      <th>event_id</th>\n",
       "      <th>ad_id</th>\n",
       "    </tr>\n",
       "  </thead>\n",
       "  <tbody>\n",
       "    <tr>\n",
       "      <th>count</th>\n",
       "      <td>400000.000000</td>\n",
       "      <td>400000.000000</td>\n",
       "    </tr>\n",
       "    <tr>\n",
       "      <th>mean</th>\n",
       "      <td>200000.500000</td>\n",
       "      <td>100.535965</td>\n",
       "    </tr>\n",
       "    <tr>\n",
       "      <th>std</th>\n",
       "      <td>115470.198175</td>\n",
       "      <td>57.775915</td>\n",
       "    </tr>\n",
       "    <tr>\n",
       "      <th>min</th>\n",
       "      <td>1.000000</td>\n",
       "      <td>1.000000</td>\n",
       "    </tr>\n",
       "    <tr>\n",
       "      <th>25%</th>\n",
       "      <td>100000.750000</td>\n",
       "      <td>51.000000</td>\n",
       "    </tr>\n",
       "    <tr>\n",
       "      <th>50%</th>\n",
       "      <td>200000.500000</td>\n",
       "      <td>101.000000</td>\n",
       "    </tr>\n",
       "    <tr>\n",
       "      <th>75%</th>\n",
       "      <td>300000.250000</td>\n",
       "      <td>151.000000</td>\n",
       "    </tr>\n",
       "    <tr>\n",
       "      <th>max</th>\n",
       "      <td>400000.000000</td>\n",
       "      <td>200.000000</td>\n",
       "    </tr>\n",
       "  </tbody>\n",
       "</table>\n",
       "</div>"
      ],
      "text/plain": [
       "            event_id          ad_id\n",
       "count  400000.000000  400000.000000\n",
       "mean   200000.500000     100.535965\n",
       "std    115470.198175      57.775915\n",
       "min         1.000000       1.000000\n",
       "25%    100000.750000      51.000000\n",
       "50%    200000.500000     101.000000\n",
       "75%    300000.250000     151.000000\n",
       "max    400000.000000     200.000000"
      ]
     },
     "execution_count": 20,
     "metadata": {},
     "output_type": "execute_result"
    }
   ],
   "source": [
    "d.describe() "
   ]
  },
  {
   "cell_type": "code",
   "execution_count": 21,
   "id": "a1a423d4",
   "metadata": {},
   "outputs": [
    {
     "name": "stdout",
     "output_type": "stream",
     "text": [
      "<class 'pandas.core.frame.DataFrame'>\n",
      "RangeIndex: 400000 entries, 0 to 399999\n",
      "Data columns (total 7 columns):\n",
      " #   Column       Non-Null Count   Dtype \n",
      "---  ------       --------------   ----- \n",
      " 0   event_id     400000 non-null  int64 \n",
      " 1   ad_id        400000 non-null  int64 \n",
      " 2   user_id      400000 non-null  object\n",
      " 3   timestamp    400000 non-null  object\n",
      " 4   day_of_week  400000 non-null  object\n",
      " 5   time_of_day  400000 non-null  object\n",
      " 6   event_type   400000 non-null  object\n",
      "dtypes: int64(2), object(5)\n",
      "memory usage: 21.4+ MB\n"
     ]
    }
   ],
   "source": [
    "d.info() "
   ]
  },
  {
   "cell_type": "code",
   "execution_count": 22,
   "id": "42de273d",
   "metadata": {},
   "outputs": [
    {
     "data": {
      "text/plain": [
       "0"
      ]
     },
     "execution_count": 22,
     "metadata": {},
     "output_type": "execute_result"
    }
   ],
   "source": [
    "d.duplicated().sum()"
   ]
  },
  {
   "cell_type": "code",
   "execution_count": 23,
   "id": "4712f43e",
   "metadata": {},
   "outputs": [
    {
     "data": {
      "text/plain": [
       "event_id       0\n",
       "ad_id          0\n",
       "user_id        0\n",
       "timestamp      0\n",
       "day_of_week    0\n",
       "time_of_day    0\n",
       "event_type     0\n",
       "dtype: int64"
      ]
     },
     "execution_count": 23,
     "metadata": {},
     "output_type": "execute_result"
    }
   ],
   "source": [
    "d.isna().sum() #checking for null data point"
   ]
  },
  {
   "cell_type": "code",
   "execution_count": null,
   "id": "e972bf7c",
   "metadata": {},
   "outputs": [],
   "source": []
  }
 ],
 "metadata": {
  "kernelspec": {
   "display_name": "base",
   "language": "python",
   "name": "python3"
  },
  "language_info": {
   "codemirror_mode": {
    "name": "ipython",
    "version": 3
   },
   "file_extension": ".py",
   "mimetype": "text/x-python",
   "name": "python",
   "nbconvert_exporter": "python",
   "pygments_lexer": "ipython3",
   "version": "3.12.7"
  }
 },
 "nbformat": 4,
 "nbformat_minor": 5
}
